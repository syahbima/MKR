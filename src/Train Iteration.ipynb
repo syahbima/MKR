{
 "cells": [
  {
   "cell_type": "markdown",
   "metadata": {},
   "source": [
    "# Train model with various learning rate"
   ]
  },
  {
   "cell_type": "code",
   "execution_count": 2,
   "metadata": {},
   "outputs": [],
   "source": [
    "import subprocess as sub\n",
    "\n",
    "\n",
    "lr_rs = 0.001\n",
    "lr_kg = 0.001\n",
    "\n",
    "for i in range(5) :\n",
    "    sub.run([\"python3\", \"main.py\",\"--lr_rs\",str(lr_rs),\"--lr_kg\",str(lr_kg)])\n",
    "    lr_rs = lr_rs/2\n",
    "    lr_kg = lr_kg/2   \n",
    "    "
   ]
  },
  {
   "cell_type": "code",
   "execution_count": 4,
   "metadata": {},
   "outputs": [
    {
     "data": {
      "text/plain": [
       "CompletedProcess(args=['python3', 'main.py', '--lr_rs', '0.001'], returncode=0)"
      ]
     },
     "execution_count": 4,
     "metadata": {},
     "output_type": "execute_result"
    }
   ],
   "source": [
    "import subprocess as sub\n",
    "\n",
    "sub.run([\"python3\", \"main.py\",\"--lr_rs\",\"0.001\"])"
   ]
  },
  {
   "cell_type": "code",
   "execution_count": null,
   "metadata": {},
   "outputs": [],
   "source": []
  }
 ],
 "metadata": {
  "kernelspec": {
   "display_name": "Python 3",
   "language": "python",
   "name": "python3"
  },
  "language_info": {
   "codemirror_mode": {
    "name": "ipython",
    "version": 3
   },
   "file_extension": ".py",
   "mimetype": "text/x-python",
   "name": "python",
   "nbconvert_exporter": "python",
   "pygments_lexer": "ipython3",
   "version": "3.6.8"
  }
 },
 "nbformat": 4,
 "nbformat_minor": 2
}
