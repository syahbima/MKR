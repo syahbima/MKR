{
 "cells": [
  {
   "cell_type": "markdown",
   "metadata": {},
   "source": [
    "# Preprocessing Ratings Data and Knowledge Graph"
   ]
  },
  {
   "cell_type": "markdown",
   "metadata": {},
   "source": [
    "This notebook will preprocess ratings data (MovieLens-14m) and knowledge graph (from DBpedia) to be used in MKR  recommendation system"
   ]
  },
  {
   "cell_type": "markdown",
   "metadata": {},
   "source": [
    "## Import Necessary Lib"
   ]
  },
  {
   "cell_type": "code",
   "execution_count": 2,
   "metadata": {},
   "outputs": [],
   "source": [
    "from ipywidgets import FloatProgress, IntProgress\n",
    "from IPython.display import display\n",
    "from tqdm import tqdm"
   ]
  },
  {
   "cell_type": "markdown",
   "metadata": {},
   "source": [
    "## Ratings Data Preprocessing"
   ]
  },
  {
   "cell_type": "markdown",
   "metadata": {},
   "source": [
    "### 1. Read Raw Ratings Data"
   ]
  },
  {
   "cell_type": "code",
   "execution_count": 1,
   "metadata": {},
   "outputs": [],
   "source": [
    "#file csv yang berisi ratings\n",
    "file = 'ratings_re2.csv'"
   ]
  },
  {
   "cell_type": "markdown",
   "metadata": {},
   "source": [
    "### 2. Preprocess Ratings Data"
   ]
  },
  {
   "cell_type": "markdown",
   "metadata": {},
   "source": [
    "Threshold rating to be 1 if >= 4 and 0 if <4"
   ]
  },
  {
   "cell_type": "code",
   "execution_count": 8,
   "metadata": {},
   "outputs": [],
   "source": [
    "user_pos_ratings = dict()\n",
    "user_neg_ratings = dict()\n",
    "\n",
    "for line in tqdm(open(file, encoding='utf-8').readlines()[1:]):\n",
    "    line_list = line.rstrip().split(\",\")\n",
    "    item_index = int(line_list[1])\n",
    "    user_index = int(line_list[0])-1\n",
    "    rating = float(line_list[2])\n",
    "    \n",
    "    if rating >= 4:\n",
    "        if user_index not in user_pos_ratings:\n",
    "            user_pos_ratings[user_index] = set()\n",
    "        user_pos_ratings[user_index].add(item_index)\n",
    "    else:\n",
    "        if user_index not in user_neg_ratings:\n",
    "            user_neg_ratings[user_index] = set()\n",
    "        user_neg_ratings[user_index].add(item_index)\n",
    "\n",
    "    \n",
    "user = set(list(user_pos_ratings.keys()) + list(user_neg_ratings.keys()))"
   ]
  },
  {
   "cell_type": "markdown",
   "metadata": {},
   "source": [
    "### 3. Write Preprocessed Data into File"
   ]
  },
  {
   "cell_type": "code",
   "execution_count": 10,
   "metadata": {},
   "outputs": [],
   "source": [
    "f= open(\"ratings_final.txt\",\"w+\")\n",
    "\n",
    "for u in sorted(user):\n",
    "    if u in user_pos_ratings.keys() :\n",
    "        for item_index in user_pos_ratings[u]:\n",
    "            f.write(\"%d\\t%d\\t%d\\n\" % (u,item_index,1))\n",
    "    if u in user_neg_ratings.keys() :\n",
    "        for item_index in user_neg_ratings[u]:\n",
    "            f.write(\"%d\\t%d\\t%d\\n\" % (u,item_index,0))  \n",
    "f.close()"
   ]
  },
  {
   "cell_type": "markdown",
   "metadata": {},
   "source": [
    "## KG data preprocessing"
   ]
  },
  {
   "cell_type": "markdown",
   "metadata": {},
   "source": [
    "Read KG data from triples_idx2.txt and write all triples (h,r,t) which the h is the item entity to kg_final.txt"
   ]
  },
  {
   "cell_type": "code",
   "execution_count": 4,
   "metadata": {},
   "outputs": [
    {
     "name": "stderr",
     "output_type": "stream",
     "text": [
      "100%|██████████| 692082/692082 [00:01<00:00, 510174.63it/s]\n"
     ]
    }
   ],
   "source": [
    "f_out = open(\"kg_final.txt\",\"w+\")\n",
    "\n",
    "for line in tqdm(open(\"triples_idx2.txt\", encoding='utf-8').readlines()) :\n",
    "    line_list = line.rstrip().split(\" \")\n",
    "    line_list[1] = str(int(line_list[1]) - 200000)\n",
    "    \n",
    "    #Make sure head of the KG is movie only\n",
    "    if(int(line_list[0]) <= 15526 ) :\n",
    "        new_line = \"\\t\".join(line_list)\n",
    "        f_out.write(new_line + \"\\n\")\n",
    "f_out.close()"
   ]
  }
 ],
 "metadata": {
  "kernelspec": {
   "display_name": "Python 3",
   "language": "python",
   "name": "python3"
  },
  "language_info": {
   "codemirror_mode": {
    "name": "ipython",
    "version": 3
   },
   "file_extension": ".py",
   "mimetype": "text/x-python",
   "name": "python",
   "nbconvert_exporter": "python",
   "pygments_lexer": "ipython3",
   "version": "3.6.8"
  }
 },
 "nbformat": 4,
 "nbformat_minor": 2
}
